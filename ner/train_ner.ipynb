{
 "cells": [
  {
   "cell_type": "code",
   "execution_count": 1,
   "metadata": {},
   "outputs": [
    {
     "name": "stderr",
     "output_type": "stream",
     "text": [
      "Using TensorFlow backend.\n"
     ]
    }
   ],
   "source": [
    "%load_ext autoreload\n",
    "%autoreload 2\n",
    "\n",
    "import warnings\n",
    "warnings.filterwarnings(\"ignore\")\n",
    "\n",
    "import sys\n",
    "sys.path.insert(0, '..')\n",
    "\n",
    "import os\n",
    "import definition\n",
    "from ner import Reader, Extractor, BiLstmCrfTagger, SingularBatchGenerator\n",
    "import pandas as pd\n",
    "import numpy as np\n",
    "from tqdm import tqdm\n",
    "from sklearn.metrics import classification_report, f1_score\n",
    "import matplotlib.pyplot as plt"
   ]
  },
  {
   "cell_type": "markdown",
   "metadata": {},
   "source": [
    "## Validation"
   ]
  },
  {
   "cell_type": "code",
   "execution_count": 2,
   "metadata": {},
   "outputs": [],
   "source": [
    "train_ratio = 0.75\n",
    "\n",
    "raw_data = Reader.read_file(definition.DATA_PAIRED_SAMPLE)\n",
    "index = np.arange(len(raw_data))\n",
    "np.random.shuffle(index)\n",
    "index_train = index[:int(train_ratio * len(raw_data))]\n",
    "index_test = index[int(train_ratio * len(raw_data)):]\n",
    "raw_data_train = np.array(raw_data)[index_train].tolist()\n",
    "raw_data_test = np.array(raw_data)[index_test].tolist()"
   ]
  },
  {
   "cell_type": "code",
   "execution_count": 3,
   "metadata": {},
   "outputs": [
    {
     "name": "stdout",
     "output_type": "stream",
     "text": [
      "2025\n",
      "675\n"
     ]
    }
   ],
   "source": [
    "print(len(raw_data_train))\n",
    "print(len(raw_data_test))"
   ]
  },
  {
   "cell_type": "code",
   "execution_count": 68,
   "metadata": {},
   "outputs": [
    {
     "name": "stdout",
     "output_type": "stream",
     "text": [
      "42861\n",
      "['B-ASPECT' 'B-SENTIMENT' 'I-ASPECT' 'I-SENTIMENT' 'O']\n",
      "[ 5143  6879  1694  3257 25888]\n",
      "[0.11999253400527286, 0.160495555400014, 0.039523109586803856, 0.07598982758218427, 0.6039989734257251]\n"
     ]
    }
   ],
   "source": [
    "label_train_flat = np.hstack([item['label'] for item in raw_data_train])\n",
    "label_test_flat = np.hstack([item['label'] for item in raw_data_test])\n",
    "label_count = np.unique(np.hstack((label_train_flat, label_test_flat)), return_counts=True)\n",
    "label_count_total = sum(label_count[1])\n",
    "print(label_count_total)\n",
    "print(label_count[0])\n",
    "print(label_count[1])\n",
    "print([item/label_count_total for item in label_count[1]])"
   ]
  },
  {
   "cell_type": "code",
   "execution_count": 39,
   "metadata": {},
   "outputs": [
    {
     "name": "stderr",
     "output_type": "stream",
     "text": [
      "Extracting data: 100%|███████████████████████████████████████████████████████████| 2025/2025 [00:01<00:00, 1418.35it/s]\n"
     ]
    },
    {
     "name": "stdout",
     "output_type": "stream",
     "text": [
      "Encoding model not found. It will be generated.\n"
     ]
    },
    {
     "name": "stderr",
     "output_type": "stream",
     "text": [
      "Extracting data: 100%|█████████████████████████████████████████████████████████████| 675/675 [00:00<00:00, 1326.94it/s]\n"
     ]
    }
   ],
   "source": [
    "embedding_filename = \"fasttext_25.bin\"\n",
    "\n",
    "extractor = Extractor(embedding_filename=os.path.join(definition.MODEL_UTILITY, embedding_filename))\n",
    "X_train, y_train = extractor.extract_data(raw_data_train)\n",
    "X_test, y_test = extractor.extract_data(raw_data_test)"
   ]
  },
  {
   "cell_type": "code",
   "execution_count": 40,
   "metadata": {},
   "outputs": [],
   "source": [
    "filename_encoder_validation = \"encoder_validation.pkl\"\n",
    "\n",
    "extractor.save_encoder_model(os.path.join(definition.MODEL_NER, filename_encoder_validation))"
   ]
  },
  {
   "cell_type": "code",
   "execution_count": 41,
   "metadata": {},
   "outputs": [
    {
     "data": {
      "text/plain": [
       "(12, 75)"
      ]
     },
     "execution_count": 41,
     "metadata": {},
     "output_type": "execute_result"
    }
   ],
   "source": [
    "X_train[0].shape"
   ]
  },
  {
   "cell_type": "code",
   "execution_count": 42,
   "metadata": {},
   "outputs": [
    {
     "data": {
      "text/plain": [
       "(12, 5)"
      ]
     },
     "execution_count": 42,
     "metadata": {},
     "output_type": "execute_result"
    }
   ],
   "source": [
    "np.array(y_train[0]).shape"
   ]
  },
  {
   "cell_type": "code",
   "execution_count": 43,
   "metadata": {},
   "outputs": [
    {
     "name": "stdout",
     "output_type": "stream",
     "text": [
      "75 100 50 5\n"
     ]
    }
   ],
   "source": [
    "n_features = X_train[0].shape[1]\n",
    "n_lstm_unit = 100\n",
    "n_distributed_dense = 50\n",
    "n_tags = 5\n",
    "\n",
    "print(n_features, n_lstm_unit, n_distributed_dense, n_tags)"
   ]
  },
  {
   "cell_type": "code",
   "execution_count": 44,
   "metadata": {},
   "outputs": [],
   "source": [
    "model = BiLstmCrfTagger(n_features=n_features, n_lstm_unit=n_lstm_unit, n_distributed_dense=n_distributed_dense, n_tags=n_tags)"
   ]
  },
  {
   "cell_type": "code",
   "execution_count": 45,
   "metadata": {},
   "outputs": [],
   "source": [
    "train_generator = SingularBatchGenerator(X_train, y_train)\n",
    "val_generator = SingularBatchGenerator(X_test[:len(X_test)//3], y_test[:len(y_test)//3])"
   ]
  },
  {
   "cell_type": "code",
   "execution_count": 46,
   "metadata": {},
   "outputs": [
    {
     "name": "stdout",
     "output_type": "stream",
     "text": [
      "Epoch 1/3\n",
      " - 118s - loss: 0.2669 - crf_accuracy: 0.8726 - val_loss: 0.1367 - val_crf_accuracy: 0.9033\n",
      "Epoch 2/3\n",
      " - 115s - loss: 0.0093 - crf_accuracy: 0.9248 - val_loss: -1.1362e-02 - val_crf_accuracy: 0.9170\n",
      "Epoch 3/3\n",
      " - 116s - loss: -1.6477e-01 - crf_accuracy: 0.9487 - val_loss: -8.8624e-02 - val_crf_accuracy: 0.9089\n"
     ]
    }
   ],
   "source": [
    "history = model.fit_generator(generator=train_generator, epochs=3, verbose=2, validation_data=val_generator)"
   ]
  },
  {
   "cell_type": "code",
   "execution_count": 47,
   "metadata": {},
   "outputs": [
    {
     "data": {
      "text/html": [
       "<div>\n",
       "<style scoped>\n",
       "    .dataframe tbody tr th:only-of-type {\n",
       "        vertical-align: middle;\n",
       "    }\n",
       "\n",
       "    .dataframe tbody tr th {\n",
       "        vertical-align: top;\n",
       "    }\n",
       "\n",
       "    .dataframe thead th {\n",
       "        text-align: right;\n",
       "    }\n",
       "</style>\n",
       "<table border=\"1\" class=\"dataframe\">\n",
       "  <thead>\n",
       "    <tr style=\"text-align: right;\">\n",
       "      <th></th>\n",
       "      <th>val_loss</th>\n",
       "      <th>val_crf_accuracy</th>\n",
       "      <th>loss</th>\n",
       "      <th>crf_accuracy</th>\n",
       "    </tr>\n",
       "  </thead>\n",
       "  <tbody>\n",
       "    <tr>\n",
       "      <th>0</th>\n",
       "      <td>0.136673</td>\n",
       "      <td>0.903273</td>\n",
       "      <td>0.266883</td>\n",
       "      <td>0.872560</td>\n",
       "    </tr>\n",
       "    <tr>\n",
       "      <th>1</th>\n",
       "      <td>-0.011362</td>\n",
       "      <td>0.916969</td>\n",
       "      <td>0.009342</td>\n",
       "      <td>0.924804</td>\n",
       "    </tr>\n",
       "    <tr>\n",
       "      <th>2</th>\n",
       "      <td>-0.088624</td>\n",
       "      <td>0.908946</td>\n",
       "      <td>-0.164769</td>\n",
       "      <td>0.948689</td>\n",
       "    </tr>\n",
       "  </tbody>\n",
       "</table>\n",
       "</div>"
      ],
      "text/plain": [
       "   val_loss  val_crf_accuracy      loss  crf_accuracy\n",
       "0  0.136673          0.903273  0.266883      0.872560\n",
       "1 -0.011362          0.916969  0.009342      0.924804\n",
       "2 -0.088624          0.908946 -0.164769      0.948689"
      ]
     },
     "execution_count": 47,
     "metadata": {},
     "output_type": "execute_result"
    }
   ],
   "source": [
    "progress = pd.DataFrame(history.history)\n",
    "progress"
   ]
  },
  {
   "cell_type": "code",
   "execution_count": 48,
   "metadata": {},
   "outputs": [
    {
     "data": {
      "image/png": "[encoded data removed]",
      "text/plain": [
       "<Figure size 720x360 with 1 Axes>"
      ]
     },
     "metadata": {},
     "output_type": "display_data"
    },
    {
     "data": {
      "image/png": "[encoded data removed]",
      "text/plain": [
       "<Figure size 720x360 with 1 Axes>"
      ]
     },
     "metadata": {},
     "output_type": "display_data"
    }
   ],
   "source": [
    "plt.style.use(\"ggplot\")\n",
    "plt.figure(figsize=(10,5))\n",
    "plt.plot(progress[\"loss\"])\n",
    "plt.plot(progress[\"val_loss\"])\n",
    "plt.xticks(range(len(progress)), progress.index+1)\n",
    "plt.xlabel(\"Epoch\")\n",
    "plt.ylabel(\"Loss\")\n",
    "plt.show()\n",
    "\n",
    "plt.style.use(\"ggplot\")\n",
    "plt.figure(figsize=(10,5))\n",
    "plt.plot(progress[\"crf_accuracy\"])\n",
    "plt.plot(progress[\"val_crf_accuracy\"])\n",
    "plt.xticks(range(len(progress)), progress.index+1)\n",
    "plt.xlabel(\"Epoch\")\n",
    "plt.ylabel(\"Accuracy\")\n",
    "plt.show()"
   ]
  },
  {
   "cell_type": "code",
   "execution_count": 49,
   "metadata": {},
   "outputs": [
    {
     "name": "stdout",
     "output_type": "stream",
     "text": [
      "_________________________________________________________________\n",
      "Layer (type)                 Output Shape              Param #   \n",
      "=================================================================\n",
      "input_3 (InputLayer)         (None, None, 75)          0         \n",
      "_________________________________________________________________\n",
      "bidirectional_3 (Bidirection (None, None, 200)         140800    \n",
      "_________________________________________________________________\n",
      "time_distributed_3 (TimeDist (None, None, 50)          10050     \n",
      "_________________________________________________________________\n",
      "crf_3 (CRF)                  (None, None, 5)           290       \n",
      "=================================================================\n",
      "Total params: 151,140\n",
      "Trainable params: 151,140\n",
      "Non-trainable params: 0\n",
      "_________________________________________________________________\n"
     ]
    }
   ],
   "source": [
    "model.summary()"
   ]
  },
  {
   "cell_type": "code",
   "execution_count": 50,
   "metadata": {},
   "outputs": [],
   "source": [
    "filename_tagger_validation = \"tagger_validation.h5\"\n",
    "\n",
    "model.save(os.path.join(definition.MODEL_NER, filename_tagger_validation))"
   ]
  },
  {
   "cell_type": "code",
   "execution_count": 51,
   "metadata": {},
   "outputs": [
    {
     "name": "stderr",
     "output_type": "stream",
     "text": [
      "100%|████████████████████████████████████████████████████████████████████████████████| 675/675 [00:13<00:00, 51.38it/s]\n"
     ]
    }
   ],
   "source": [
    "pred = []\n",
    "for item in tqdm(X_test):\n",
    "    pred.append(model.predict(np.array([item]))[0])"
   ]
  },
  {
   "cell_type": "code",
   "execution_count": 52,
   "metadata": {},
   "outputs": [],
   "source": [
    "pred_label = extractor.convert_y_matrix_to_label(pred).tolist()\n",
    "y_test_label = extractor.convert_y_matrix_to_label(y_test).tolist()"
   ]
  },
  {
   "cell_type": "code",
   "execution_count": 53,
   "metadata": {},
   "outputs": [],
   "source": [
    "pred_label_flatten = [token for sentence in pred_label for token in sentence]\n",
    "y_test_label_flatten = [token for sentence in y_test_label for token in sentence]"
   ]
  },
  {
   "cell_type": "code",
   "execution_count": 54,
   "metadata": {
    "scrolled": true
   },
   "outputs": [
    {
     "name": "stdout",
     "output_type": "stream",
     "text": [
      "              precision    recall  f1-score   support\n",
      "\n",
      "    B-ASPECT       0.85      0.87      0.86      1254\n",
      " B-SENTIMENT       0.89      0.87      0.88      1679\n",
      "    I-ASPECT       0.81      0.70      0.75       411\n",
      " I-SENTIMENT       0.80      0.78      0.79       767\n",
      "           O       0.92      0.93      0.92      6575\n",
      "\n",
      "    accuracy                           0.89     10686\n",
      "   macro avg       0.85      0.83      0.84     10686\n",
      "weighted avg       0.89      0.89      0.89     10686\n",
      "\n"
     ]
    }
   ],
   "source": [
    "print(classification_report(y_test_label_flatten, pred_label_flatten))"
   ]
  },
  {
   "cell_type": "code",
   "execution_count": null,
   "metadata": {},
   "outputs": [],
   "source": []
  }
 ],
 "metadata": {
  "kernelspec": {
   "display_name": "Python 3",
   "language": "python",
   "name": "python3"
  },
  "language_info": {
   "codemirror_mode": {
    "name": "ipython",
    "version": 3
   },
   "file_extension": ".py",
   "mimetype": "text/x-python",
   "name": "python",
   "nbconvert_exporter": "python",
   "pygments_lexer": "ipython3",
   "version": "3.6.8"
  }
 },
 "nbformat": 4,
 "nbformat_minor": 2
}

{
 "cells": [
  {
   "cell_type": "code",
   "execution_count": 1,
   "metadata": {},
   "outputs": [
    {
     "name": "stderr",
     "output_type": "stream",
     "text": [
      "Using TensorFlow backend.\n"
     ]
    }
   ],
   "source": [
    "%load_ext autoreload\n",
    "%autoreload 2\n",
    "\n",
    "import warnings\n",
    "warnings.filterwarnings(\"ignore\")\n",
    "\n",
    "import sys\n",
    "sys.path.insert(0, '..')\n",
    "\n",
    "import os\n",
    "import definition\n",
    "from ner import Reader, Extractor, BiLstmCrfTagger, UnaryBatchGenerator\n",
    "import pandas as pd\n",
    "import numpy as np\n",
    "from tqdm import tqdm\n",
    "from sklearn.metrics import classification_report, f1_score\n",
    "import matplotlib.pyplot as plt"
   ]
  },
  {
   "cell_type": "markdown",
   "metadata": {},
   "source": [
    "## Validation"
   ]
  },
  {
   "cell_type": "code",
   "execution_count": 2,
   "metadata": {},
   "outputs": [],
   "source": [
    "train_ratio = 0.75\n",
    "\n",
    "raw_data = Reader.read_file(definition.DATA_PAIRED_SAMPLE)\n",
    "index = np.arange(len(raw_data))\n",
    "np.random.shuffle(index)\n",
    "index_train = index[:int(train_ratio * len(raw_data))]\n",
    "index_test = index[int(train_ratio * len(raw_data)):]\n",
    "raw_data_train = np.array(raw_data)[index_train].tolist()\n",
    "raw_data_test = np.array(raw_data)[index_test].tolist()"
   ]
  },
  {
   "cell_type": "code",
   "execution_count": 3,
   "metadata": {},
   "outputs": [
    {
     "name": "stdout",
     "output_type": "stream",
     "text": [
      "2023\n",
      "675\n"
     ]
    }
   ],
   "source": [
    "print(len(raw_data_train))\n",
    "print(len(raw_data_test))"
   ]
  },
  {
   "cell_type": "code",
   "execution_count": 4,
   "metadata": {},
   "outputs": [
    {
     "name": "stderr",
     "output_type": "stream",
     "text": [
      "Extracting data: 100%|██████████████████████████████████████████████████████████| 2023/2023 [00:00<00:00, 57840.84it/s]\n"
     ]
    },
    {
     "name": "stdout",
     "output_type": "stream",
     "text": [
      "Encoding model not found. It will be generated.\n"
     ]
    },
    {
     "name": "stderr",
     "output_type": "stream",
     "text": [
      "Fitting sentence to encoder: 100%|██████████████████████████████████████████████| 2023/2023 [00:00<00:00, 96385.19it/s]\n",
      "Extracting data: 100%|████████████████████████████████████████████████████████████| 675/675 [00:00<00:00, 61397.36it/s]\n"
     ]
    }
   ],
   "source": [
    "embedding_filename = \"fasttext_25.bin\"\n",
    "\n",
    "extractor = Extractor(embedding_filename=os.path.join(definition.MODEL_EMBEDDING, embedding_filename))\n",
    "X_train, y_train = extractor.extract_data(raw_data_train)\n",
    "X_test, y_test = extractor.extract_data(raw_data_test)"
   ]
  },
  {
   "cell_type": "code",
   "execution_count": 5,
   "metadata": {},
   "outputs": [],
   "source": [
    "filename_encoder_validation = \"encoder_validation.pkl\"\n",
    "\n",
    "extractor.save_encoder_model(os.path.join(definition.MODEL_NER, filename_encoder_validation))"
   ]
  },
  {
   "cell_type": "code",
   "execution_count": 6,
   "metadata": {},
   "outputs": [
    {
     "data": {
      "text/plain": [
       "(26, 3139)"
      ]
     },
     "execution_count": 6,
     "metadata": {},
     "output_type": "execute_result"
    }
   ],
   "source": [
    "X_train[0].shape"
   ]
  },
  {
   "cell_type": "code",
   "execution_count": 7,
   "metadata": {},
   "outputs": [
    {
     "data": {
      "text/plain": [
       "(26, 5)"
      ]
     },
     "execution_count": 7,
     "metadata": {},
     "output_type": "execute_result"
    }
   ],
   "source": [
    "np.array(y_train[0]).shape"
   ]
  },
  {
   "cell_type": "code",
   "execution_count": 8,
   "metadata": {},
   "outputs": [
    {
     "name": "stdout",
     "output_type": "stream",
     "text": [
      "3139 100 50 5\n"
     ]
    }
   ],
   "source": [
    "n_features = X_train[0].shape[1]\n",
    "n_lstm_unit = 100\n",
    "n_distributed_dense = 50\n",
    "n_tags = 5\n",
    "\n",
    "print(n_features, n_lstm_unit, n_distributed_dense, n_tags)"
   ]
  },
  {
   "cell_type": "code",
   "execution_count": 9,
   "metadata": {},
   "outputs": [
    {
     "name": "stdout",
     "output_type": "stream",
     "text": [
      "WARNING:tensorflow:From C:\\Tools\\Anaconda3\\envs\\deeplearning1\\lib\\site-packages\\tensorflow\\python\\framework\\op_def_library.py:263: colocate_with (from tensorflow.python.framework.ops) is deprecated and will be removed in a future version.\n",
      "Instructions for updating:\n",
      "Colocations handled automatically by placer.\n"
     ]
    }
   ],
   "source": [
    "model = BiLstmCrfTagger(n_features=n_features, n_lstm_unit=n_lstm_unit, n_distributed_dense=n_distributed_dense, n_tags=n_tags)"
   ]
  },
  {
   "cell_type": "code",
   "execution_count": 10,
   "metadata": {},
   "outputs": [],
   "source": [
    "train_generator = UnaryBatchGenerator(X_train, y_train)\n",
    "val_generator = UnaryBatchGenerator(X_test[:len(X_test)//2], y_test[:len(y_test)//2])"
   ]
  },
  {
   "cell_type": "code",
   "execution_count": 11,
   "metadata": {},
   "outputs": [
    {
     "name": "stdout",
     "output_type": "stream",
     "text": [
      "WARNING:tensorflow:From C:\\Tools\\Anaconda3\\envs\\deeplearning1\\lib\\site-packages\\tensorflow\\python\\ops\\math_ops.py:3066: to_int32 (from tensorflow.python.ops.math_ops) is deprecated and will be removed in a future version.\n",
      "Instructions for updating:\n",
      "Use tf.cast instead.\n",
      "Epoch 1/10\n",
      " - 179s - loss: 0.4883 - crf_accuracy: 0.8044 - val_loss: 0.2206 - val_crf_accuracy: 0.8846\n",
      "Epoch 2/10\n",
      " - 177s - loss: 0.1337 - crf_accuracy: 0.8987 - val_loss: 0.0467 - val_crf_accuracy: 0.9115\n",
      "Epoch 3/10\n",
      " - 181s - loss: -8.5009e-03 - crf_accuracy: 0.9170 - val_loss: -4.1448e-02 - val_crf_accuracy: 0.9129\n",
      "Epoch 4/10\n",
      " - 178s - loss: -1.3425e-01 - crf_accuracy: 0.9271 - val_loss: -1.6607e-01 - val_crf_accuracy: 0.9185\n",
      "Epoch 5/10\n",
      " - 178s - loss: -2.5353e-01 - crf_accuracy: 0.9353 - val_loss: -2.7773e-01 - val_crf_accuracy: 0.9188\n",
      "Epoch 6/10\n",
      " - 178s - loss: -3.7675e-01 - crf_accuracy: 0.9425 - val_loss: -3.7587e-01 - val_crf_accuracy: 0.9143\n",
      "Epoch 7/10\n",
      " - 178s - loss: -5.0370e-01 - crf_accuracy: 0.9477 - val_loss: -5.1078e-01 - val_crf_accuracy: 0.9194\n",
      "Epoch 8/10\n",
      " - 177s - loss: -6.3164e-01 - crf_accuracy: 0.9546 - val_loss: -5.9059e-01 - val_crf_accuracy: 0.9193\n",
      "Epoch 9/10\n",
      " - 177s - loss: -7.5998e-01 - crf_accuracy: 0.9594 - val_loss: -6.8376e-01 - val_crf_accuracy: 0.9099\n",
      "Epoch 10/10\n",
      " - 177s - loss: -8.9336e-01 - crf_accuracy: 0.9637 - val_loss: -8.1796e-01 - val_crf_accuracy: 0.9109\n"
     ]
    }
   ],
   "source": [
    "history = model.fit_generator(generator=train_generator, epochs=10, verbose=2, validation_data=val_generator)"
   ]
  },
  {
   "cell_type": "code",
   "execution_count": 18,
   "metadata": {},
   "outputs": [
    {
     "data": {
      "text/html": [
       "<div>\n",
       "<style scoped>\n",
       "    .dataframe tbody tr th:only-of-type {\n",
       "        vertical-align: middle;\n",
       "    }\n",
       "\n",
       "    .dataframe tbody tr th {\n",
       "        vertical-align: top;\n",
       "    }\n",
       "\n",
       "    .dataframe thead th {\n",
       "        text-align: right;\n",
       "    }\n",
       "</style>\n",
       "<table border=\"1\" class=\"dataframe\">\n",
       "  <thead>\n",
       "    <tr style=\"text-align: right;\">\n",
       "      <th></th>\n",
       "      <th>val_loss</th>\n",
       "      <th>val_crf_accuracy</th>\n",
       "      <th>loss</th>\n",
       "      <th>crf_accuracy</th>\n",
       "    </tr>\n",
       "  </thead>\n",
       "  <tbody>\n",
       "    <tr>\n",
       "      <th>0</th>\n",
       "      <td>0.220616</td>\n",
       "      <td>0.884622</td>\n",
       "      <td>0.488315</td>\n",
       "      <td>0.804414</td>\n",
       "    </tr>\n",
       "    <tr>\n",
       "      <th>1</th>\n",
       "      <td>0.046712</td>\n",
       "      <td>0.911499</td>\n",
       "      <td>0.133724</td>\n",
       "      <td>0.898746</td>\n",
       "    </tr>\n",
       "    <tr>\n",
       "      <th>2</th>\n",
       "      <td>-0.041448</td>\n",
       "      <td>0.912903</td>\n",
       "      <td>-0.008501</td>\n",
       "      <td>0.916970</td>\n",
       "    </tr>\n",
       "    <tr>\n",
       "      <th>3</th>\n",
       "      <td>-0.166068</td>\n",
       "      <td>0.918497</td>\n",
       "      <td>-0.134253</td>\n",
       "      <td>0.927065</td>\n",
       "    </tr>\n",
       "    <tr>\n",
       "      <th>4</th>\n",
       "      <td>-0.277729</td>\n",
       "      <td>0.918833</td>\n",
       "      <td>-0.253535</td>\n",
       "      <td>0.935265</td>\n",
       "    </tr>\n",
       "    <tr>\n",
       "      <th>5</th>\n",
       "      <td>-0.375867</td>\n",
       "      <td>0.914346</td>\n",
       "      <td>-0.376751</td>\n",
       "      <td>0.942475</td>\n",
       "    </tr>\n",
       "    <tr>\n",
       "      <th>6</th>\n",
       "      <td>-0.510783</td>\n",
       "      <td>0.919449</td>\n",
       "      <td>-0.503699</td>\n",
       "      <td>0.947698</td>\n",
       "    </tr>\n",
       "    <tr>\n",
       "      <th>7</th>\n",
       "      <td>-0.590586</td>\n",
       "      <td>0.919265</td>\n",
       "      <td>-0.631641</td>\n",
       "      <td>0.954634</td>\n",
       "    </tr>\n",
       "    <tr>\n",
       "      <th>8</th>\n",
       "      <td>-0.683756</td>\n",
       "      <td>0.909895</td>\n",
       "      <td>-0.759982</td>\n",
       "      <td>0.959388</td>\n",
       "    </tr>\n",
       "    <tr>\n",
       "      <th>9</th>\n",
       "      <td>-0.817962</td>\n",
       "      <td>0.910884</td>\n",
       "      <td>-0.893365</td>\n",
       "      <td>0.963655</td>\n",
       "    </tr>\n",
       "  </tbody>\n",
       "</table>\n",
       "</div>"
      ],
      "text/plain": [
       "   val_loss  val_crf_accuracy      loss  crf_accuracy\n",
       "0  0.220616          0.884622  0.488315      0.804414\n",
       "1  0.046712          0.911499  0.133724      0.898746\n",
       "2 -0.041448          0.912903 -0.008501      0.916970\n",
       "3 -0.166068          0.918497 -0.134253      0.927065\n",
       "4 -0.277729          0.918833 -0.253535      0.935265\n",
       "5 -0.375867          0.914346 -0.376751      0.942475\n",
       "6 -0.510783          0.919449 -0.503699      0.947698\n",
       "7 -0.590586          0.919265 -0.631641      0.954634\n",
       "8 -0.683756          0.909895 -0.759982      0.959388\n",
       "9 -0.817962          0.910884 -0.893365      0.963655"
      ]
     },
     "execution_count": 18,
     "metadata": {},
     "output_type": "execute_result"
    }
   ],
   "source": [
    "progress = pd.DataFrame(history.history)\n",
    "progress"
   ]
  },
  {
   "cell_type": "code",
   "execution_count": 25,
   "metadata": {},
   "outputs": [
    {
     "data": {
      "image/png": "[encoded data removed]",
      "text/plain": [
       "<Figure size 720x360 with 1 Axes>"
      ]
     },
     "metadata": {},
     "output_type": "display_data"
    },
    {
     "data": {
      "image/png": "[encoded data removed]",
      "text/plain": [
       "<Figure size 720x360 with 1 Axes>"
      ]
     },
     "metadata": {},
     "output_type": "display_data"
    }
   ],
   "source": [
    "plt.style.use(\"ggplot\")\n",
    "plt.figure(figsize=(10,5))\n",
    "plt.plot(progress[\"loss\"])\n",
    "plt.plot(progress[\"val_loss\"])\n",
    "plt.xticks(range(len(progress)), progress.index+1)\n",
    "plt.xlabel(\"Epoch\")\n",
    "plt.ylabel(\"Loss\")\n",
    "plt.show()\n",
    "\n",
    "plt.style.use(\"ggplot\")\n",
    "plt.figure(figsize=(10,5))\n",
    "plt.plot(progress[\"crf_accuracy\"])\n",
    "plt.plot(progress[\"val_crf_accuracy\"])\n",
    "plt.xticks(range(len(progress)), progress.index+1)\n",
    "plt.xlabel(\"Epoch\")\n",
    "plt.ylabel(\"Accuracy\")\n",
    "plt.show()"
   ]
  },
  {
   "cell_type": "code",
   "execution_count": 30,
   "metadata": {},
   "outputs": [
    {
     "name": "stdout",
     "output_type": "stream",
     "text": [
      "_________________________________________________________________\n",
      "Layer (type)                 Output Shape              Param #   \n",
      "=================================================================\n",
      "input_1 (InputLayer)         (None, None, 3139)        0         \n",
      "_________________________________________________________________\n",
      "bidirectional_1 (Bidirection (None, None, 200)         2592000   \n",
      "_________________________________________________________________\n",
      "time_distributed_1 (TimeDist (None, None, 50)          10050     \n",
      "_________________________________________________________________\n",
      "crf_1 (ClassWrapper)         (None, None, 5)           290       \n",
      "=================================================================\n",
      "Total params: 2,602,340\n",
      "Trainable params: 2,602,340\n",
      "Non-trainable params: 0\n",
      "_________________________________________________________________\n"
     ]
    }
   ],
   "source": [
    "model.summary()"
   ]
  },
  {
   "cell_type": "code",
   "execution_count": 20,
   "metadata": {},
   "outputs": [],
   "source": [
    "filename_tagger_validation = \"tagger_validation.h5\"\n",
    "\n",
    "model.save(os.path.join(definition.MODEL_NER, filename_tagger_validation))"
   ]
  },
  {
   "cell_type": "code",
   "execution_count": 21,
   "metadata": {},
   "outputs": [
    {
     "name": "stderr",
     "output_type": "stream",
     "text": [
      "100%|████████████████████████████████████████████████████████████████████████████████| 675/675 [00:17<00:00, 32.42it/s]\n"
     ]
    }
   ],
   "source": [
    "pred = []\n",
    "for item in tqdm(X_test):\n",
    "    pred.append(model.predict(np.array([item]))[0])"
   ]
  },
  {
   "cell_type": "code",
   "execution_count": 22,
   "metadata": {},
   "outputs": [],
   "source": [
    "pred_label = extractor.convert_y_matrix_to_label(pred).tolist()\n",
    "y_test_label = extractor.convert_y_matrix_to_label(y_test).tolist()"
   ]
  },
  {
   "cell_type": "code",
   "execution_count": 23,
   "metadata": {},
   "outputs": [],
   "source": [
    "pred_label_flatten = [token for sentence in pred_label for token in sentence]\n",
    "y_test_label_flatten = [token for sentence in y_test_label for token in sentence]"
   ]
  },
  {
   "cell_type": "code",
   "execution_count": 24,
   "metadata": {
    "scrolled": true
   },
   "outputs": [
    {
     "name": "stdout",
     "output_type": "stream",
     "text": [
      "              precision    recall  f1-score   support\n",
      "\n",
      "    B-ASPECT       0.90      0.86      0.88      1270\n",
      " B-SENTIMENT       0.90      0.89      0.89      1726\n",
      "    I-ASPECT       0.83      0.70      0.76       405\n",
      " I-SENTIMENT       0.81      0.82      0.81       796\n",
      "           O       0.92      0.94      0.93      6323\n",
      "\n",
      "    accuracy                           0.90     10520\n",
      "   macro avg       0.87      0.84      0.86     10520\n",
      "weighted avg       0.90      0.90      0.90     10520\n",
      "\n"
     ]
    }
   ],
   "source": [
    "print(classification_report(y_test_label_flatten, pred_label_flatten))"
   ]
  },
  {
   "cell_type": "code",
   "execution_count": null,
   "metadata": {},
   "outputs": [],
   "source": []
  }
 ],
 "metadata": {
  "kernelspec": {
   "display_name": "Python 3",
   "language": "python",
   "name": "python3"
  },
  "language_info": {
   "codemirror_mode": {
    "name": "ipython",
    "version": 3
   },
   "file_extension": ".py",
   "mimetype": "text/x-python",
   "name": "python",
   "nbconvert_exporter": "python",
   "pygments_lexer": "ipython3",
   "version": "3.6.8"
  }
 },
 "nbformat": 4,
 "nbformat_minor": 2
}

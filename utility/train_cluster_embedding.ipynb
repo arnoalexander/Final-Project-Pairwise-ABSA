{
 "cells": [
  {
   "cell_type": "code",
   "execution_count": 1,
   "metadata": {},
   "outputs": [],
   "source": [
    "%load_ext autoreload\n",
    "%autoreload 2\n",
    "\n",
    "import warnings\n",
    "warnings.filterwarnings(\"ignore\")\n",
    "\n",
    "import sys\n",
    "sys.path.insert(0, '..')\n",
    "\n",
    "import os\n",
    "import definition\n",
    "import numpy as np\n",
    "from utility import Clusterer, Embedding"
   ]
  },
  {
   "cell_type": "markdown",
   "metadata": {},
   "source": [
    "## Embedding Model Loading"
   ]
  },
  {
   "cell_type": "code",
   "execution_count": 2,
   "metadata": {},
   "outputs": [],
   "source": [
    "embedding_filename = \"word2vec_50.bin\"\n",
    "\n",
    "embedding = Embedding()\n",
    "embedding.load(os.path.join(definition.MODEL_UTILITY, embedding_filename))"
   ]
  },
  {
   "cell_type": "code",
   "execution_count": 3,
   "metadata": {},
   "outputs": [
    {
     "data": {
      "text/plain": [
       "6734"
      ]
     },
     "execution_count": 3,
     "metadata": {},
     "output_type": "execute_result"
    }
   ],
   "source": [
    "data = [embedding.get_vector_word(word) for word in embedding.model.wv.vocab]\n",
    "len(data)"
   ]
  },
  {
   "cell_type": "code",
   "execution_count": 4,
   "metadata": {},
   "outputs": [
    {
     "data": {
      "text/plain": [
       "array([ 2.6476276 ,  2.9053473 ,  0.7384511 ,  1.9141148 ,  1.475225  ,\n",
       "       -1.9459403 ,  1.5652997 ,  2.9192388 ,  2.153804  , -0.69632614,\n",
       "       -0.68513983, -3.5197215 , -2.6578343 , -1.5009211 , -0.2895543 ,\n",
       "       -0.9205028 , -1.9105117 , -0.7677402 , -1.1410935 ,  0.5330322 ,\n",
       "       -3.8589246 , -0.5093356 ,  0.93807834, -0.23274429, -0.37683058,\n",
       "        0.28844598, -0.565025  , -0.15452754, -2.3338249 ,  0.7547871 ,\n",
       "       -1.3377863 , -0.8592731 , -0.85886735,  1.6614144 , -0.55368656,\n",
       "       -0.95942396,  0.774174  ,  1.0639511 ,  0.14478588, -2.349041  ,\n",
       "       -2.2007003 ,  1.6254396 , -1.6080307 , -1.5276673 , -1.4716629 ,\n",
       "        0.5980024 , -1.3570856 ,  4.084906  , -1.2211493 , -0.57936954],\n",
       "      dtype=float32)"
      ]
     },
     "execution_count": 4,
     "metadata": {},
     "output_type": "execute_result"
    }
   ],
   "source": [
    "data[0]"
   ]
  },
  {
   "cell_type": "markdown",
   "metadata": {},
   "source": [
    "## Clustering"
   ]
  },
  {
   "cell_type": "code",
   "execution_count": 5,
   "metadata": {},
   "outputs": [],
   "source": [
    "# important parameter\n",
    "n_clusters = 50"
   ]
  },
  {
   "cell_type": "code",
   "execution_count": 6,
   "metadata": {},
   "outputs": [],
   "source": [
    "clusterer = Clusterer(n_clusters=n_clusters)\n",
    "clusterer.fit(X=data)"
   ]
  },
  {
   "cell_type": "code",
   "execution_count": 7,
   "metadata": {},
   "outputs": [],
   "source": [
    "clusterer_filename = \"{}_kmeans_{}.pkl\".format(embedding_filename[:-4], n_clusters)\n",
    "clusterer.save(os.path.join(definition.MODEL_UTILITY, clusterer_filename))"
   ]
  },
  {
   "cell_type": "code",
   "execution_count": 8,
   "metadata": {},
   "outputs": [],
   "source": [
    "clst = Clusterer(n_clusters=1)\n",
    "clst.load(os.path.join(definition.MODEL_UTILITY, clusterer_filename))"
   ]
  },
  {
   "cell_type": "code",
   "execution_count": 9,
   "metadata": {
    "scrolled": true
   },
   "outputs": [
    {
     "data": {
      "text/plain": [
       "50"
      ]
     },
     "execution_count": 9,
     "metadata": {},
     "output_type": "execute_result"
    }
   ],
   "source": [
    "len(clst.model.cluster_centers_)"
   ]
  },
  {
   "cell_type": "code",
   "execution_count": null,
   "metadata": {},
   "outputs": [],
   "source": []
  }
 ],
 "metadata": {
  "kernelspec": {
   "display_name": "Python 3",
   "language": "python",
   "name": "python3"
  },
  "language_info": {
   "codemirror_mode": {
    "name": "ipython",
    "version": 3
   },
   "file_extension": ".py",
   "mimetype": "text/x-python",
   "name": "python",
   "nbconvert_exporter": "python",
   "pygments_lexer": "ipython3",
   "version": "3.6.8"
  }
 },
 "nbformat": 4,
 "nbformat_minor": 2
}

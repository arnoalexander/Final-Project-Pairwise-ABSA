{
 "cells": [
  {
   "cell_type": "code",
   "execution_count": 1,
   "metadata": {},
   "outputs": [],
   "source": [
    "%load_ext autoreload\n",
    "%autoreload 2\n",
    "\n",
    "import warnings\n",
    "warnings.filterwarnings(\"ignore\")\n",
    "\n",
    "import sys\n",
    "sys.path.insert(0, '..')\n",
    "\n",
    "import os\n",
    "import definition\n",
    "from utility import Preprocessor, Embedding\n",
    "import pandas as pd\n",
    "import numpy as np"
   ]
  },
  {
   "cell_type": "markdown",
   "metadata": {},
   "source": [
    "## Data Loading, Preprocessing, and Selection"
   ]
  },
  {
   "cell_type": "code",
   "execution_count": 2,
   "metadata": {},
   "outputs": [
    {
     "name": "stdout",
     "output_type": "stream",
     "text": [
      "144353\n"
     ]
    },
    {
     "data": {
      "text/html": [
       "<div>\n",
       "<style scoped>\n",
       "    .dataframe tbody tr th:only-of-type {\n",
       "        vertical-align: middle;\n",
       "    }\n",
       "\n",
       "    .dataframe tbody tr th {\n",
       "        vertical-align: top;\n",
       "    }\n",
       "\n",
       "    .dataframe thead th {\n",
       "        text-align: right;\n",
       "    }\n",
       "</style>\n",
       "<table border=\"1\" class=\"dataframe\">\n",
       "  <thead>\n",
       "    <tr style=\"text-align: right;\">\n",
       "      <th></th>\n",
       "      <th>review_id</th>\n",
       "      <th>review_text</th>\n",
       "      <th>review_source</th>\n",
       "      <th>review_score</th>\n",
       "      <th>category</th>\n",
       "    </tr>\n",
       "  </thead>\n",
       "  <tbody>\n",
       "    <tr>\n",
       "      <th>0</th>\n",
       "      <td>73a965356fe43aa02b113b684f1a365c</td>\n",
       "      <td>Kotor berdebu. Saya tdk berhenti bersin ketika...</td>\n",
       "      <td>befc88fe53f24cb70ce7f9d2efd89858</td>\n",
       "      <td>5.5</td>\n",
       "      <td>kebersihan</td>\n",
       "    </tr>\n",
       "    <tr>\n",
       "      <th>1</th>\n",
       "      <td>35f506b353ff95aed86131fb01fb43bc</td>\n",
       "      <td>oke cuma  air wastafel berwarna keruh mohon di...</td>\n",
       "      <td>4c5d06b02c97731aaa976179c62dcf76</td>\n",
       "      <td>3.0</td>\n",
       "      <td>fasilitas</td>\n",
       "    </tr>\n",
       "    <tr>\n",
       "      <th>2</th>\n",
       "      <td>e93324022b758ce67710708ac115cd18</td>\n",
       "      <td>kamar ada semutnya. kamar mandi bermasalah. bu...</td>\n",
       "      <td>4c5d06b02c97731aaa976179c62dcf76</td>\n",
       "      <td>2.0</td>\n",
       "      <td>kebersihan</td>\n",
       "    </tr>\n",
       "    <tr>\n",
       "      <th>3</th>\n",
       "      <td>dff13be030a1a10741848a2d9622cee4</td>\n",
       "      <td>Kamar mandi bau, airnya bau</td>\n",
       "      <td>4c5d06b02c97731aaa976179c62dcf76</td>\n",
       "      <td>1.0</td>\n",
       "      <td>kebersihan</td>\n",
       "    </tr>\n",
       "    <tr>\n",
       "      <th>4</th>\n",
       "      <td>beeff65d3c2e32934261586493934f99</td>\n",
       "      <td>kamarnya bersih dan nyaman, tetapi perlu di pe...</td>\n",
       "      <td>4c5d06b02c97731aaa976179c62dcf76</td>\n",
       "      <td>3.0</td>\n",
       "      <td>fasilitas</td>\n",
       "    </tr>\n",
       "  </tbody>\n",
       "</table>\n",
       "</div>"
      ],
      "text/plain": [
       "                          review_id  \\\n",
       "0  73a965356fe43aa02b113b684f1a365c   \n",
       "1  35f506b353ff95aed86131fb01fb43bc   \n",
       "2  e93324022b758ce67710708ac115cd18   \n",
       "3  dff13be030a1a10741848a2d9622cee4   \n",
       "4  beeff65d3c2e32934261586493934f99   \n",
       "\n",
       "                                         review_text  \\\n",
       "0  Kotor berdebu. Saya tdk berhenti bersin ketika...   \n",
       "1  oke cuma  air wastafel berwarna keruh mohon di...   \n",
       "2  kamar ada semutnya. kamar mandi bermasalah. bu...   \n",
       "3                        Kamar mandi bau, airnya bau   \n",
       "4  kamarnya bersih dan nyaman, tetapi perlu di pe...   \n",
       "\n",
       "                      review_source  review_score    category  \n",
       "0  befc88fe53f24cb70ce7f9d2efd89858           5.5  kebersihan  \n",
       "1  4c5d06b02c97731aaa976179c62dcf76           3.0   fasilitas  \n",
       "2  4c5d06b02c97731aaa976179c62dcf76           2.0  kebersihan  \n",
       "3  4c5d06b02c97731aaa976179c62dcf76           1.0  kebersihan  \n",
       "4  4c5d06b02c97731aaa976179c62dcf76           3.0   fasilitas  "
      ]
     },
     "execution_count": 2,
     "metadata": {},
     "output_type": "execute_result"
    }
   ],
   "source": [
    "df = pd.read_csv(definition.DATA_RAW_FILE)\n",
    "df = df.drop_duplicates('review_id', 'first').reset_index().drop('index', axis=1)\n",
    "print(len(df))\n",
    "df.head()"
   ]
  },
  {
   "cell_type": "code",
   "execution_count": 3,
   "metadata": {},
   "outputs": [],
   "source": [
    "sampling_percentage = 0.6\n",
    "\n",
    "index = np.arange(len(df))\n",
    "np.random.shuffle(index)\n",
    "index_train = index[:int(sampling_percentage * len(df))]\n",
    "\n",
    "corpus = df['review_text'].values[index_train]\n",
    "corpus = corpus.astype(str)"
   ]
  },
  {
   "cell_type": "code",
   "execution_count": 4,
   "metadata": {
    "scrolled": true
   },
   "outputs": [
    {
     "name": "stdout",
     "output_type": "stream",
     "text": [
      "86611\n"
     ]
    }
   ],
   "source": [
    "prep_corpus = []\n",
    "for review in corpus:\n",
    "    prep_corpus.append(Preprocessor.tokenize(review))\n",
    "print(len(prep_corpus))"
   ]
  },
  {
   "cell_type": "markdown",
   "metadata": {},
   "source": [
    "## Embedding Construction"
   ]
  },
  {
   "cell_type": "code",
   "execution_count": 5,
   "metadata": {},
   "outputs": [],
   "source": [
    "size = 50\n",
    "min_count = 5\n",
    "min_n = 3\n",
    "max_n = 3\n",
    "iter_count = 10"
   ]
  },
  {
   "cell_type": "code",
   "execution_count": 6,
   "metadata": {},
   "outputs": [
    {
     "name": "stdout",
     "output_type": "stream",
     "text": [
      "Epoch #10/10...\n"
     ]
    }
   ],
   "source": [
    "embedding = Embedding(min_count=min_count, size=size, min_n=min_n, max_n=max_n, iter=iter_count) #FastText\n",
    "# embedding = Embedding(fast_text=False, min_count=min_count, size=size, iter=iter_count) #Word2Vec\n",
    "embedding.build_vocab(prep_corpus)\n",
    "embedding.train(prep_corpus, verbose=True)"
   ]
  },
  {
   "cell_type": "code",
   "execution_count": 7,
   "metadata": {},
   "outputs": [
    {
     "data": {
      "text/plain": [
       "<gensim.models.fasttext.FastText at 0x1dc46e28f28>"
      ]
     },
     "execution_count": 7,
     "metadata": {},
     "output_type": "execute_result"
    }
   ],
   "source": [
    "embedding.model"
   ]
  },
  {
   "cell_type": "code",
   "execution_count": 8,
   "metadata": {},
   "outputs": [],
   "source": [
    "embedding_filename = \"fasttext_{}.bin\".format(size)\n",
    "\n",
    "embedding.save(os.path.join(definition.MODEL_UTILITY, embedding_filename))"
   ]
  },
  {
   "cell_type": "code",
   "execution_count": 9,
   "metadata": {},
   "outputs": [],
   "source": [
    "emb = Embedding()\n",
    "emb.load(os.path.join(definition.MODEL_UTILITY, \"word2vec_50.bin\"))"
   ]
  },
  {
   "cell_type": "code",
   "execution_count": 10,
   "metadata": {},
   "outputs": [
    {
     "data": {
      "text/plain": [
       "array([-1.7022049e+00, -2.0602486e+00,  9.9179786e-01, -1.7458515e+00,\n",
       "        9.1210834e-04,  7.1764582e-01,  1.7087953e+00, -6.0669923e-01,\n",
       "       -1.0208499e-01,  3.0401435e-01, -8.1829858e-01, -2.7640522e-01,\n",
       "       -3.6003739e-01, -8.8371724e-01,  7.2289541e-02,  2.5206330e-01,\n",
       "       -5.9040797e-01, -9.2085946e-01,  1.2441402e-01,  1.0682888e+00,\n",
       "        1.3036884e+00,  3.2723479e+00,  7.6717973e-01,  9.6611863e-01,\n",
       "        1.4282854e+00,  1.3190644e+00, -2.6156983e-01,  8.5227525e-01,\n",
       "       -1.3431911e+00,  2.3524494e-01, -2.1572757e+00, -2.0660398e+00,\n",
       "       -1.0267270e+00,  1.8764496e-01, -1.8040169e+00, -7.3037148e-01,\n",
       "       -2.0896409e+00, -3.0169935e+00,  1.8700662e+00,  1.0991282e+00,\n",
       "        2.2655790e+00,  3.0235515e+00,  8.6412990e-01,  1.9274672e+00,\n",
       "        1.4980316e+00, -8.8511884e-01,  9.5460214e-02, -2.8977257e-01,\n",
       "       -4.8271167e-01,  1.6822881e+00], dtype=float32)"
      ]
     },
     "execution_count": 10,
     "metadata": {},
     "output_type": "execute_result"
    }
   ],
   "source": [
    "emb.get_vector_word(\"service\")"
   ]
  },
  {
   "cell_type": "code",
   "execution_count": null,
   "metadata": {},
   "outputs": [],
   "source": []
  }
 ],
 "metadata": {
  "kernelspec": {
   "display_name": "Python 3",
   "language": "python",
   "name": "python3"
  },
  "language_info": {
   "codemirror_mode": {
    "name": "ipython",
    "version": 3
   },
   "file_extension": ".py",
   "mimetype": "text/x-python",
   "name": "python",
   "nbconvert_exporter": "python",
   "pygments_lexer": "ipython3",
   "version": "3.6.8"
  }
 },
 "nbformat": 4,
 "nbformat_minor": 2
}

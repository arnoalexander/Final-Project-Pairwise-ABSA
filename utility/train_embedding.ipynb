{
 "cells": [
  {
   "cell_type": "code",
   "execution_count": 1,
   "metadata": {},
   "outputs": [],
   "source": [
    "%load_ext autoreload\n",
    "%autoreload 2\n",
    "\n",
    "import warnings\n",
    "warnings.filterwarnings(\"ignore\")\n",
    "\n",
    "import sys\n",
    "sys.path.insert(0, '..')\n",
    "\n",
    "import os\n",
    "import definition\n",
    "from embedding import Preprocessor, Embedding\n",
    "import pandas as pd\n",
    "import numpy as np"
   ]
  },
  {
   "cell_type": "markdown",
   "metadata": {},
   "source": [
    "## Data Loading, Preprocessing, and Selection"
   ]
  },
  {
   "cell_type": "code",
   "execution_count": 2,
   "metadata": {},
   "outputs": [
    {
     "name": "stdout",
     "output_type": "stream",
     "text": [
      "144353\n"
     ]
    },
    {
     "data": {
      "text/html": [
       "<div>\n",
       "<style scoped>\n",
       "    .dataframe tbody tr th:only-of-type {\n",
       "        vertical-align: middle;\n",
       "    }\n",
       "\n",
       "    .dataframe tbody tr th {\n",
       "        vertical-align: top;\n",
       "    }\n",
       "\n",
       "    .dataframe thead th {\n",
       "        text-align: right;\n",
       "    }\n",
       "</style>\n",
       "<table border=\"1\" class=\"dataframe\">\n",
       "  <thead>\n",
       "    <tr style=\"text-align: right;\">\n",
       "      <th></th>\n",
       "      <th>review_id</th>\n",
       "      <th>review_text</th>\n",
       "      <th>review_source</th>\n",
       "      <th>review_score</th>\n",
       "      <th>category</th>\n",
       "    </tr>\n",
       "  </thead>\n",
       "  <tbody>\n",
       "    <tr>\n",
       "      <th>0</th>\n",
       "      <td>73a965356fe43aa02b113b684f1a365c</td>\n",
       "      <td>Kotor berdebu. Saya tdk berhenti bersin ketika...</td>\n",
       "      <td>befc88fe53f24cb70ce7f9d2efd89858</td>\n",
       "      <td>5.5</td>\n",
       "      <td>kebersihan</td>\n",
       "    </tr>\n",
       "    <tr>\n",
       "      <th>1</th>\n",
       "      <td>35f506b353ff95aed86131fb01fb43bc</td>\n",
       "      <td>oke cuma  air wastafel berwarna keruh mohon di...</td>\n",
       "      <td>4c5d06b02c97731aaa976179c62dcf76</td>\n",
       "      <td>3.0</td>\n",
       "      <td>fasilitas</td>\n",
       "    </tr>\n",
       "    <tr>\n",
       "      <th>2</th>\n",
       "      <td>e93324022b758ce67710708ac115cd18</td>\n",
       "      <td>kamar ada semutnya. kamar mandi bermasalah. bu...</td>\n",
       "      <td>4c5d06b02c97731aaa976179c62dcf76</td>\n",
       "      <td>2.0</td>\n",
       "      <td>kebersihan</td>\n",
       "    </tr>\n",
       "    <tr>\n",
       "      <th>3</th>\n",
       "      <td>dff13be030a1a10741848a2d9622cee4</td>\n",
       "      <td>Kamar mandi bau, airnya bau</td>\n",
       "      <td>4c5d06b02c97731aaa976179c62dcf76</td>\n",
       "      <td>1.0</td>\n",
       "      <td>kebersihan</td>\n",
       "    </tr>\n",
       "    <tr>\n",
       "      <th>4</th>\n",
       "      <td>beeff65d3c2e32934261586493934f99</td>\n",
       "      <td>kamarnya bersih dan nyaman, tetapi perlu di pe...</td>\n",
       "      <td>4c5d06b02c97731aaa976179c62dcf76</td>\n",
       "      <td>3.0</td>\n",
       "      <td>fasilitas</td>\n",
       "    </tr>\n",
       "  </tbody>\n",
       "</table>\n",
       "</div>"
      ],
      "text/plain": [
       "                          review_id  \\\n",
       "0  73a965356fe43aa02b113b684f1a365c   \n",
       "1  35f506b353ff95aed86131fb01fb43bc   \n",
       "2  e93324022b758ce67710708ac115cd18   \n",
       "3  dff13be030a1a10741848a2d9622cee4   \n",
       "4  beeff65d3c2e32934261586493934f99   \n",
       "\n",
       "                                         review_text  \\\n",
       "0  Kotor berdebu. Saya tdk berhenti bersin ketika...   \n",
       "1  oke cuma  air wastafel berwarna keruh mohon di...   \n",
       "2  kamar ada semutnya. kamar mandi bermasalah. bu...   \n",
       "3                        Kamar mandi bau, airnya bau   \n",
       "4  kamarnya bersih dan nyaman, tetapi perlu di pe...   \n",
       "\n",
       "                      review_source  review_score    category  \n",
       "0  befc88fe53f24cb70ce7f9d2efd89858           5.5  kebersihan  \n",
       "1  4c5d06b02c97731aaa976179c62dcf76           3.0   fasilitas  \n",
       "2  4c5d06b02c97731aaa976179c62dcf76           2.0  kebersihan  \n",
       "3  4c5d06b02c97731aaa976179c62dcf76           1.0  kebersihan  \n",
       "4  4c5d06b02c97731aaa976179c62dcf76           3.0   fasilitas  "
      ]
     },
     "execution_count": 2,
     "metadata": {},
     "output_type": "execute_result"
    }
   ],
   "source": [
    "df = pd.read_csv(definition.DATA_RAW_FILE)\n",
    "df = df.drop_duplicates('review_id', 'first').reset_index().drop('index', axis=1)\n",
    "print(len(df))\n",
    "df.head()"
   ]
  },
  {
   "cell_type": "code",
   "execution_count": 3,
   "metadata": {},
   "outputs": [
    {
     "data": {
      "text/plain": [
       "array(['Memuaskan untuk harga yang sangat terjangkau tapi bisa dekat dengan segala keperluan, ada stasiun, minimarket, dan banyak tempat makan',\n",
       "       'Variasi sarapan, kelengkapan sunrise meal, koneksi wifi. ',\n",
       "       'Kamar sesuai di foto yang dipaparkan, semua karyawannya sangat ramah, proses check in sangat mudah, ',\n",
       "       'sangat nyaman,', 'nyaman bngett'], dtype='<U2067')"
      ]
     },
     "execution_count": 3,
     "metadata": {},
     "output_type": "execute_result"
    }
   ],
   "source": [
    "sampling_percentage = 0.6\n",
    "\n",
    "index = np.arange(len(df))\n",
    "np.random.shuffle(index)\n",
    "index_train = index[:int(sampling_percentage * len(df))]\n",
    "\n",
    "corpus = df['review_text'].values[index_train]\n",
    "corpus = corpus.astype(str)\n",
    "corpus[:5]"
   ]
  },
  {
   "cell_type": "code",
   "execution_count": 4,
   "metadata": {
    "scrolled": true
   },
   "outputs": [
    {
     "name": "stdout",
     "output_type": "stream",
     "text": [
      "86611\n"
     ]
    },
    {
     "data": {
      "text/plain": [
       "[['memuaskan',\n",
       "  'untuk',\n",
       "  'harga',\n",
       "  'yang',\n",
       "  'sangat',\n",
       "  'terjangkau',\n",
       "  'tapi',\n",
       "  'bisa',\n",
       "  'dekat',\n",
       "  'dengan',\n",
       "  'segala',\n",
       "  'keperluan',\n",
       "  ',',\n",
       "  'ada',\n",
       "  'stasiun',\n",
       "  ',',\n",
       "  'minimarket',\n",
       "  ',',\n",
       "  'dan',\n",
       "  'banyak',\n",
       "  'tempat',\n",
       "  'makan'],\n",
       " ['variasi',\n",
       "  'sarapan',\n",
       "  ',',\n",
       "  'kelengkapan',\n",
       "  'sunrise',\n",
       "  'meal',\n",
       "  ',',\n",
       "  'koneksi',\n",
       "  'wifi',\n",
       "  '.'],\n",
       " ['kamar',\n",
       "  'sesuai',\n",
       "  'di',\n",
       "  'foto',\n",
       "  'yang',\n",
       "  'dipaparkan',\n",
       "  ',',\n",
       "  'semua',\n",
       "  'karyawannya',\n",
       "  'sangat',\n",
       "  'ramah',\n",
       "  ',',\n",
       "  'proses',\n",
       "  'check',\n",
       "  'in',\n",
       "  'sangat',\n",
       "  'mudah',\n",
       "  ','],\n",
       " ['sangat', 'nyaman', ','],\n",
       " ['nyaman', 'bngett']]"
      ]
     },
     "execution_count": 4,
     "metadata": {},
     "output_type": "execute_result"
    }
   ],
   "source": [
    "prep_corpus = []\n",
    "for review in corpus:\n",
    "    prep_corpus.append(Preprocessor.tokenize(review))\n",
    "print(len(prep_corpus))\n",
    "prep_corpus[:5]"
   ]
  },
  {
   "cell_type": "markdown",
   "metadata": {},
   "source": [
    "## Embedding Construction"
   ]
  },
  {
   "cell_type": "code",
   "execution_count": 5,
   "metadata": {},
   "outputs": [],
   "source": [
    "size = 25\n",
    "min_count = 5\n",
    "min_n = 3\n",
    "max_n = 3\n",
    "iter_count = 10"
   ]
  },
  {
   "cell_type": "code",
   "execution_count": 6,
   "metadata": {},
   "outputs": [
    {
     "name": "stdout",
     "output_type": "stream",
     "text": [
      "Epoch #10/10...\n"
     ]
    }
   ],
   "source": [
    "embedding = Embedding(min_count=min_count, size=size, min_n=min_n, max_n=max_n, iter=iter_count)\n",
    "embedding.build_vocab(prep_corpus)\n",
    "embedding.train(prep_corpus, verbose=True)"
   ]
  },
  {
   "cell_type": "code",
   "execution_count": 7,
   "metadata": {},
   "outputs": [],
   "source": [
    "embedding_filename = \"fasttext_{}.bin\".format(size)\n",
    "\n",
    "embedding.save(os.path.join(definition.MODEL_EMBEDDING, embedding_filename))"
   ]
  },
  {
   "cell_type": "code",
   "execution_count": 8,
   "metadata": {},
   "outputs": [],
   "source": [
    "emb = Embedding()\n",
    "emb.load(os.path.join(definition.MODEL_EMBEDDING, embedding_filename))"
   ]
  },
  {
   "cell_type": "code",
   "execution_count": 9,
   "metadata": {},
   "outputs": [
    {
     "data": {
      "text/plain": [
       "array([ 0.82963747,  2.3067234 ,  0.16771676,  2.150844  ,  0.890001  ,\n",
       "        0.9580703 , -1.0738027 ,  3.7879589 , -1.9150782 ,  2.1498172 ,\n",
       "        2.7978327 , -3.30842   ,  0.65501016,  2.2940295 , -1.166068  ,\n",
       "        0.19644837,  1.7885561 ,  3.745247  ,  2.09786   ,  0.08136509,\n",
       "       -1.3206955 , -0.18061733, -0.7735384 ,  0.65012354, -1.2130476 ],\n",
       "      dtype=float32)"
      ]
     },
     "execution_count": 9,
     "metadata": {},
     "output_type": "execute_result"
    }
   ],
   "source": [
    "emb.get_vector_word(\"bagus\")"
   ]
  },
  {
   "cell_type": "code",
   "execution_count": null,
   "metadata": {},
   "outputs": [],
   "source": []
  }
 ],
 "metadata": {
  "kernelspec": {
   "display_name": "Python 3",
   "language": "python",
   "name": "python3"
  },
  "language_info": {
   "codemirror_mode": {
    "name": "ipython",
    "version": 3
   },
   "file_extension": ".py",
   "mimetype": "text/x-python",
   "name": "python",
   "nbconvert_exporter": "python",
   "pygments_lexer": "ipython3",
   "version": "3.6.8"
  }
 },
 "nbformat": 4,
 "nbformat_minor": 2
}

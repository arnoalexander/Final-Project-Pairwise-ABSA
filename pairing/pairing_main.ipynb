{
 "cells": [
  {
   "cell_type": "code",
   "execution_count": 1,
   "metadata": {},
   "outputs": [],
   "source": [
    "%load_ext autoreload\n",
    "%autoreload 2\n",
    "\n",
    "import sys\n",
    "sys.path.insert(0, '..')\n",
    "\n",
    "from pairing import Reader, Extractor\n",
    "import definition\n",
    "import numpy as np\n",
    "from xgboost import XGBClassifier\n",
    "from lightgbm import LGBMClassifier\n",
    "from sklearn.metrics import f1_score, confusion_matrix"
   ]
  },
  {
   "cell_type": "markdown",
   "metadata": {},
   "source": [
    "## Data Loading and Preprocessing"
   ]
  },
  {
   "cell_type": "code",
   "execution_count": 2,
   "metadata": {},
   "outputs": [
    {
     "name": "stderr",
     "output_type": "stream",
     "text": [
      "100%|███████████████████████████████████████████████████████████████████████████| 1618/1618 [00:00<00:00, 42599.68it/s]\n",
      "100%|███████████████████████████████████████████████████████████████████████████| 1080/1080 [00:00<00:00, 43234.06it/s]\n"
     ]
    }
   ],
   "source": [
    "train_ratio = 0.6\n",
    "\n",
    "raw_data = Reader.read_file(definition.DATA_PAIRED_SAMPLE)\n",
    "index = np.arange(len(raw_data))\n",
    "np.random.shuffle(index)\n",
    "index_train = index[:int(train_ratio * len(raw_data))]\n",
    "index_test = index[int(train_ratio * len(raw_data)):]\n",
    "raw_data_train = np.array(raw_data)[index_train].tolist()\n",
    "raw_data_test = np.array(raw_data)[index_test].tolist()\n",
    "\n",
    "data_train = Extractor.extract_data(raw_data_train)\n",
    "data_test = Extractor.extract_data(raw_data_test)"
   ]
  },
  {
   "cell_type": "code",
   "execution_count": 3,
   "metadata": {},
   "outputs": [
    {
     "data": {
      "text/html": [
       "<div>\n",
       "<style scoped>\n",
       "    .dataframe tbody tr th:only-of-type {\n",
       "        vertical-align: middle;\n",
       "    }\n",
       "\n",
       "    .dataframe tbody tr th {\n",
       "        vertical-align: top;\n",
       "    }\n",
       "\n",
       "    .dataframe thead th {\n",
       "        text-align: right;\n",
       "    }\n",
       "</style>\n",
       "<table border=\"1\" class=\"dataframe\">\n",
       "  <thead>\n",
       "    <tr style=\"text-align: right;\">\n",
       "      <th></th>\n",
       "      <th>dist_endpoint</th>\n",
       "      <th>dist_start</th>\n",
       "      <th>len_aspect_char</th>\n",
       "      <th>len_aspect_word</th>\n",
       "      <th>len_sentiment_char</th>\n",
       "      <th>len_sentiment_word</th>\n",
       "      <th>position_aspect</th>\n",
       "      <th>position_sentiment</th>\n",
       "      <th>target</th>\n",
       "    </tr>\n",
       "  </thead>\n",
       "  <tbody>\n",
       "    <tr>\n",
       "      <th>0</th>\n",
       "      <td>1</td>\n",
       "      <td>1</td>\n",
       "      <td>5</td>\n",
       "      <td>1</td>\n",
       "      <td>11</td>\n",
       "      <td>2</td>\n",
       "      <td>1</td>\n",
       "      <td>2</td>\n",
       "      <td>1</td>\n",
       "    </tr>\n",
       "    <tr>\n",
       "      <th>1</th>\n",
       "      <td>7</td>\n",
       "      <td>7</td>\n",
       "      <td>5</td>\n",
       "      <td>1</td>\n",
       "      <td>9</td>\n",
       "      <td>1</td>\n",
       "      <td>1</td>\n",
       "      <td>8</td>\n",
       "      <td>0</td>\n",
       "    </tr>\n",
       "    <tr>\n",
       "      <th>2</th>\n",
       "      <td>4</td>\n",
       "      <td>5</td>\n",
       "      <td>7</td>\n",
       "      <td>1</td>\n",
       "      <td>11</td>\n",
       "      <td>2</td>\n",
       "      <td>7</td>\n",
       "      <td>2</td>\n",
       "      <td>0</td>\n",
       "    </tr>\n",
       "    <tr>\n",
       "      <th>3</th>\n",
       "      <td>1</td>\n",
       "      <td>1</td>\n",
       "      <td>7</td>\n",
       "      <td>1</td>\n",
       "      <td>9</td>\n",
       "      <td>1</td>\n",
       "      <td>7</td>\n",
       "      <td>8</td>\n",
       "      <td>1</td>\n",
       "    </tr>\n",
       "    <tr>\n",
       "      <th>4</th>\n",
       "      <td>2</td>\n",
       "      <td>3</td>\n",
       "      <td>9</td>\n",
       "      <td>1</td>\n",
       "      <td>22</td>\n",
       "      <td>2</td>\n",
       "      <td>3</td>\n",
       "      <td>0</td>\n",
       "      <td>0</td>\n",
       "    </tr>\n",
       "  </tbody>\n",
       "</table>\n",
       "</div>"
      ],
      "text/plain": [
       "   dist_endpoint  dist_start  len_aspect_char  len_aspect_word  \\\n",
       "0              1           1                5                1   \n",
       "1              7           7                5                1   \n",
       "2              4           5                7                1   \n",
       "3              1           1                7                1   \n",
       "4              2           3                9                1   \n",
       "\n",
       "   len_sentiment_char  len_sentiment_word  position_aspect  \\\n",
       "0                  11                   2                1   \n",
       "1                   9                   1                1   \n",
       "2                  11                   2                7   \n",
       "3                   9                   1                7   \n",
       "4                  22                   2                3   \n",
       "\n",
       "   position_sentiment  target  \n",
       "0                   2       1  \n",
       "1                   8       0  \n",
       "2                   2       0  \n",
       "3                   8       1  \n",
       "4                   0       0  "
      ]
     },
     "execution_count": 3,
     "metadata": {},
     "output_type": "execute_result"
    }
   ],
   "source": [
    "data_train.head()"
   ]
  },
  {
   "cell_type": "code",
   "execution_count": 4,
   "metadata": {},
   "outputs": [
    {
     "data": {
      "text/html": [
       "<div>\n",
       "<style scoped>\n",
       "    .dataframe tbody tr th:only-of-type {\n",
       "        vertical-align: middle;\n",
       "    }\n",
       "\n",
       "    .dataframe tbody tr th {\n",
       "        vertical-align: top;\n",
       "    }\n",
       "\n",
       "    .dataframe thead th {\n",
       "        text-align: right;\n",
       "    }\n",
       "</style>\n",
       "<table border=\"1\" class=\"dataframe\">\n",
       "  <thead>\n",
       "    <tr style=\"text-align: right;\">\n",
       "      <th></th>\n",
       "      <th>dist_endpoint</th>\n",
       "      <th>dist_start</th>\n",
       "      <th>len_aspect_char</th>\n",
       "      <th>len_aspect_word</th>\n",
       "      <th>len_sentiment_char</th>\n",
       "      <th>len_sentiment_word</th>\n",
       "      <th>position_aspect</th>\n",
       "      <th>position_sentiment</th>\n",
       "      <th>target</th>\n",
       "    </tr>\n",
       "  </thead>\n",
       "  <tbody>\n",
       "    <tr>\n",
       "      <th>count</th>\n",
       "      <td>10997.000000</td>\n",
       "      <td>10997.000000</td>\n",
       "      <td>10997.000000</td>\n",
       "      <td>10997.000000</td>\n",
       "      <td>10997.000000</td>\n",
       "      <td>10997.000000</td>\n",
       "      <td>10997.000000</td>\n",
       "      <td>10997.000000</td>\n",
       "      <td>10997.000000</td>\n",
       "    </tr>\n",
       "    <tr>\n",
       "      <th>mean</th>\n",
       "      <td>7.915431</td>\n",
       "      <td>8.251432</td>\n",
       "      <td>7.902246</td>\n",
       "      <td>1.319633</td>\n",
       "      <td>8.196326</td>\n",
       "      <td>1.486951</td>\n",
       "      <td>10.459034</td>\n",
       "      <td>11.443576</td>\n",
       "      <td>0.319724</td>\n",
       "    </tr>\n",
       "    <tr>\n",
       "      <th>std</th>\n",
       "      <td>9.088053</td>\n",
       "      <td>9.098686</td>\n",
       "      <td>3.514481</td>\n",
       "      <td>0.568154</td>\n",
       "      <td>4.240337</td>\n",
       "      <td>0.692643</td>\n",
       "      <td>12.291775</td>\n",
       "      <td>12.249610</td>\n",
       "      <td>0.466391</td>\n",
       "    </tr>\n",
       "    <tr>\n",
       "      <th>min</th>\n",
       "      <td>1.000000</td>\n",
       "      <td>1.000000</td>\n",
       "      <td>2.000000</td>\n",
       "      <td>1.000000</td>\n",
       "      <td>2.000000</td>\n",
       "      <td>1.000000</td>\n",
       "      <td>0.000000</td>\n",
       "      <td>0.000000</td>\n",
       "      <td>0.000000</td>\n",
       "    </tr>\n",
       "    <tr>\n",
       "      <th>25%</th>\n",
       "      <td>2.000000</td>\n",
       "      <td>2.000000</td>\n",
       "      <td>5.000000</td>\n",
       "      <td>1.000000</td>\n",
       "      <td>5.000000</td>\n",
       "      <td>1.000000</td>\n",
       "      <td>2.000000</td>\n",
       "      <td>3.000000</td>\n",
       "      <td>0.000000</td>\n",
       "    </tr>\n",
       "    <tr>\n",
       "      <th>50%</th>\n",
       "      <td>5.000000</td>\n",
       "      <td>5.000000</td>\n",
       "      <td>8.000000</td>\n",
       "      <td>1.000000</td>\n",
       "      <td>7.000000</td>\n",
       "      <td>1.000000</td>\n",
       "      <td>7.000000</td>\n",
       "      <td>8.000000</td>\n",
       "      <td>0.000000</td>\n",
       "    </tr>\n",
       "    <tr>\n",
       "      <th>75%</th>\n",
       "      <td>11.000000</td>\n",
       "      <td>11.000000</td>\n",
       "      <td>10.000000</td>\n",
       "      <td>2.000000</td>\n",
       "      <td>11.000000</td>\n",
       "      <td>2.000000</td>\n",
       "      <td>14.000000</td>\n",
       "      <td>16.000000</td>\n",
       "      <td>1.000000</td>\n",
       "    </tr>\n",
       "    <tr>\n",
       "      <th>max</th>\n",
       "      <td>81.000000</td>\n",
       "      <td>81.000000</td>\n",
       "      <td>29.000000</td>\n",
       "      <td>5.000000</td>\n",
       "      <td>29.000000</td>\n",
       "      <td>6.000000</td>\n",
       "      <td>81.000000</td>\n",
       "      <td>82.000000</td>\n",
       "      <td>1.000000</td>\n",
       "    </tr>\n",
       "  </tbody>\n",
       "</table>\n",
       "</div>"
      ],
      "text/plain": [
       "       dist_endpoint    dist_start  len_aspect_char  len_aspect_word  \\\n",
       "count   10997.000000  10997.000000     10997.000000     10997.000000   \n",
       "mean        7.915431      8.251432         7.902246         1.319633   \n",
       "std         9.088053      9.098686         3.514481         0.568154   \n",
       "min         1.000000      1.000000         2.000000         1.000000   \n",
       "25%         2.000000      2.000000         5.000000         1.000000   \n",
       "50%         5.000000      5.000000         8.000000         1.000000   \n",
       "75%        11.000000     11.000000        10.000000         2.000000   \n",
       "max        81.000000     81.000000        29.000000         5.000000   \n",
       "\n",
       "       len_sentiment_char  len_sentiment_word  position_aspect  \\\n",
       "count        10997.000000        10997.000000     10997.000000   \n",
       "mean             8.196326            1.486951        10.459034   \n",
       "std              4.240337            0.692643        12.291775   \n",
       "min              2.000000            1.000000         0.000000   \n",
       "25%              5.000000            1.000000         2.000000   \n",
       "50%              7.000000            1.000000         7.000000   \n",
       "75%             11.000000            2.000000        14.000000   \n",
       "max             29.000000            6.000000        81.000000   \n",
       "\n",
       "       position_sentiment        target  \n",
       "count        10997.000000  10997.000000  \n",
       "mean            11.443576      0.319724  \n",
       "std             12.249610      0.466391  \n",
       "min              0.000000      0.000000  \n",
       "25%              3.000000      0.000000  \n",
       "50%              8.000000      0.000000  \n",
       "75%             16.000000      1.000000  \n",
       "max             82.000000      1.000000  "
      ]
     },
     "execution_count": 4,
     "metadata": {},
     "output_type": "execute_result"
    }
   ],
   "source": [
    "data_train.describe()"
   ]
  },
  {
   "cell_type": "code",
   "execution_count": 5,
   "metadata": {},
   "outputs": [],
   "source": [
    "X_train = data_train.drop('target', axis=1)\n",
    "X_test = data_test.drop('target', axis=1)\n",
    "y_train = data_train['target']\n",
    "y_test = data_test['target']"
   ]
  },
  {
   "cell_type": "markdown",
   "metadata": {},
   "source": [
    "## Training"
   ]
  },
  {
   "cell_type": "code",
   "execution_count": 6,
   "metadata": {},
   "outputs": [],
   "source": [
    "model = LGBMClassifier()"
   ]
  },
  {
   "cell_type": "code",
   "execution_count": 7,
   "metadata": {},
   "outputs": [
    {
     "data": {
      "text/plain": [
       "LGBMClassifier(boosting_type='gbdt', class_weight=None, colsample_bytree=1.0,\n",
       "        importance_type='split', learning_rate=0.1, max_depth=-1,\n",
       "        min_child_samples=20, min_child_weight=0.001, min_split_gain=0.0,\n",
       "        n_estimators=100, n_jobs=-1, num_leaves=31, objective=None,\n",
       "        random_state=None, reg_alpha=0.0, reg_lambda=0.0, silent=True,\n",
       "        subsample=1.0, subsample_for_bin=200000, subsample_freq=0)"
      ]
     },
     "execution_count": 7,
     "metadata": {},
     "output_type": "execute_result"
    }
   ],
   "source": [
    "model.fit(X_train, y_train)"
   ]
  },
  {
   "cell_type": "code",
   "execution_count": 8,
   "metadata": {},
   "outputs": [],
   "source": [
    "pred = model.predict(X_test)"
   ]
  },
  {
   "cell_type": "code",
   "execution_count": 9,
   "metadata": {},
   "outputs": [
    {
     "data": {
      "text/plain": [
       "0.8647948164146868"
      ]
     },
     "execution_count": 9,
     "metadata": {},
     "output_type": "execute_result"
    }
   ],
   "source": [
    "f1_score(y_test, pred)"
   ]
  },
  {
   "cell_type": "code",
   "execution_count": 12,
   "metadata": {},
   "outputs": [
    {
     "data": {
      "text/plain": [
       "array([[0, 1],\n",
       "       [0, 0]], dtype=int64)"
      ]
     },
     "execution_count": 12,
     "metadata": {},
     "output_type": "execute_result"
    }
   ],
   "source": [
    "pred_d = [1]\n",
    "true_d = [0]\n",
    "confusion_matrix(pred_d, true_d, [1,0])"
   ]
  },
  {
   "cell_type": "code",
   "execution_count": null,
   "metadata": {},
   "outputs": [],
   "source": []
  }
 ],
 "metadata": {
  "kernelspec": {
   "display_name": "Python 3",
   "language": "python",
   "name": "python3"
  },
  "language_info": {
   "codemirror_mode": {
    "name": "ipython",
    "version": 3
   },
   "file_extension": ".py",
   "mimetype": "text/x-python",
   "name": "python",
   "nbconvert_exporter": "python",
   "pygments_lexer": "ipython3",
   "version": "3.6.8"
  }
 },
 "nbformat": 4,
 "nbformat_minor": 2
}

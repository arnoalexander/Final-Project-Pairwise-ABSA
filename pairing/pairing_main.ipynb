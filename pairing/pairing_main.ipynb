{
 "cells": [
  {
   "cell_type": "code",
   "execution_count": 1,
   "metadata": {},
   "outputs": [],
   "source": [
    "%load_ext autoreload\n",
    "%autoreload 2\n",
    "\n",
    "import sys\n",
    "sys.path.insert(0, '..')\n",
    "\n",
    "from pairing import Reader, Extractor, Classifier\n",
    "import definition\n",
    "import numpy as np\n",
    "from xgboost import XGBClassifier\n",
    "from lightgbm import LGBMClassifier\n",
    "from sklearn.metrics import f1_score, confusion_matrix"
   ]
  },
  {
   "cell_type": "markdown",
   "metadata": {},
   "source": [
    "## Data Loading and Preprocessing"
   ]
  },
  {
   "cell_type": "code",
   "execution_count": 2,
   "metadata": {},
   "outputs": [
    {
     "name": "stderr",
     "output_type": "stream",
     "text": [
      "100%|███████████████████████████████████████████████████████████████████████████| 1349/1349 [00:00<00:00, 40902.73it/s]\n",
      "100%|███████████████████████████████████████████████████████████████████████████| 1349/1349 [00:00<00:00, 46547.40it/s]\n"
     ]
    }
   ],
   "source": [
    "train_ratio = 0.5\n",
    "\n",
    "raw_data = Reader.read_file(definition.DATA_PAIRED_SAMPLE)\n",
    "index = np.arange(len(raw_data))\n",
    "np.random.shuffle(index)\n",
    "index_train = index[:int(train_ratio * len(raw_data))]\n",
    "index_test = index[int(train_ratio * len(raw_data)):]\n",
    "raw_data_train = np.array(raw_data)[index_train].tolist()\n",
    "raw_data_test = np.array(raw_data)[index_test].tolist()\n",
    "\n",
    "data_train = Extractor.extract_data(raw_data_train)\n",
    "data_test = Extractor.extract_data(raw_data_test)"
   ]
  },
  {
   "cell_type": "code",
   "execution_count": 3,
   "metadata": {},
   "outputs": [
    {
     "data": {
      "text/html": [
       "<div>\n",
       "<style scoped>\n",
       "    .dataframe tbody tr th:only-of-type {\n",
       "        vertical-align: middle;\n",
       "    }\n",
       "\n",
       "    .dataframe tbody tr th {\n",
       "        vertical-align: top;\n",
       "    }\n",
       "\n",
       "    .dataframe thead th {\n",
       "        text-align: right;\n",
       "    }\n",
       "</style>\n",
       "<table border=\"1\" class=\"dataframe\">\n",
       "  <thead>\n",
       "    <tr style=\"text-align: right;\">\n",
       "      <th></th>\n",
       "      <th>dist_endpoint</th>\n",
       "      <th>dist_start</th>\n",
       "      <th>len_aspect_char</th>\n",
       "      <th>len_aspect_word</th>\n",
       "      <th>len_sentiment_char</th>\n",
       "      <th>len_sentiment_word</th>\n",
       "      <th>position_aspect</th>\n",
       "      <th>position_sentiment</th>\n",
       "      <th>target</th>\n",
       "    </tr>\n",
       "  </thead>\n",
       "  <tbody>\n",
       "    <tr>\n",
       "      <th>0</th>\n",
       "      <td>2</td>\n",
       "      <td>3</td>\n",
       "      <td>10</td>\n",
       "      <td>2</td>\n",
       "      <td>5</td>\n",
       "      <td>1</td>\n",
       "      <td>0</td>\n",
       "      <td>3</td>\n",
       "      <td>1</td>\n",
       "    </tr>\n",
       "    <tr>\n",
       "      <th>1</th>\n",
       "      <td>5</td>\n",
       "      <td>6</td>\n",
       "      <td>10</td>\n",
       "      <td>2</td>\n",
       "      <td>4</td>\n",
       "      <td>1</td>\n",
       "      <td>0</td>\n",
       "      <td>6</td>\n",
       "      <td>1</td>\n",
       "    </tr>\n",
       "    <tr>\n",
       "      <th>2</th>\n",
       "      <td>7</td>\n",
       "      <td>8</td>\n",
       "      <td>10</td>\n",
       "      <td>2</td>\n",
       "      <td>14</td>\n",
       "      <td>2</td>\n",
       "      <td>0</td>\n",
       "      <td>8</td>\n",
       "      <td>1</td>\n",
       "    </tr>\n",
       "    <tr>\n",
       "      <th>3</th>\n",
       "      <td>12</td>\n",
       "      <td>13</td>\n",
       "      <td>10</td>\n",
       "      <td>2</td>\n",
       "      <td>6</td>\n",
       "      <td>1</td>\n",
       "      <td>0</td>\n",
       "      <td>13</td>\n",
       "      <td>0</td>\n",
       "    </tr>\n",
       "    <tr>\n",
       "      <th>4</th>\n",
       "      <td>8</td>\n",
       "      <td>8</td>\n",
       "      <td>8</td>\n",
       "      <td>2</td>\n",
       "      <td>5</td>\n",
       "      <td>1</td>\n",
       "      <td>11</td>\n",
       "      <td>3</td>\n",
       "      <td>0</td>\n",
       "    </tr>\n",
       "  </tbody>\n",
       "</table>\n",
       "</div>"
      ],
      "text/plain": [
       "   dist_endpoint  dist_start  len_aspect_char  len_aspect_word  \\\n",
       "0              2           3               10                2   \n",
       "1              5           6               10                2   \n",
       "2              7           8               10                2   \n",
       "3             12          13               10                2   \n",
       "4              8           8                8                2   \n",
       "\n",
       "   len_sentiment_char  len_sentiment_word  position_aspect  \\\n",
       "0                   5                   1                0   \n",
       "1                   4                   1                0   \n",
       "2                  14                   2                0   \n",
       "3                   6                   1                0   \n",
       "4                   5                   1               11   \n",
       "\n",
       "   position_sentiment  target  \n",
       "0                   3       1  \n",
       "1                   6       1  \n",
       "2                   8       1  \n",
       "3                  13       0  \n",
       "4                   3       0  "
      ]
     },
     "execution_count": 3,
     "metadata": {},
     "output_type": "execute_result"
    }
   ],
   "source": [
    "data_train.head()"
   ]
  },
  {
   "cell_type": "code",
   "execution_count": 4,
   "metadata": {},
   "outputs": [
    {
     "data": {
      "text/html": [
       "<div>\n",
       "<style scoped>\n",
       "    .dataframe tbody tr th:only-of-type {\n",
       "        vertical-align: middle;\n",
       "    }\n",
       "\n",
       "    .dataframe tbody tr th {\n",
       "        vertical-align: top;\n",
       "    }\n",
       "\n",
       "    .dataframe thead th {\n",
       "        text-align: right;\n",
       "    }\n",
       "</style>\n",
       "<table border=\"1\" class=\"dataframe\">\n",
       "  <thead>\n",
       "    <tr style=\"text-align: right;\">\n",
       "      <th></th>\n",
       "      <th>dist_endpoint</th>\n",
       "      <th>dist_start</th>\n",
       "      <th>len_aspect_char</th>\n",
       "      <th>len_aspect_word</th>\n",
       "      <th>len_sentiment_char</th>\n",
       "      <th>len_sentiment_word</th>\n",
       "      <th>position_aspect</th>\n",
       "      <th>position_sentiment</th>\n",
       "      <th>target</th>\n",
       "    </tr>\n",
       "  </thead>\n",
       "  <tbody>\n",
       "    <tr>\n",
       "      <th>count</th>\n",
       "      <td>9904.000000</td>\n",
       "      <td>9904.000000</td>\n",
       "      <td>9904.000000</td>\n",
       "      <td>9904.000000</td>\n",
       "      <td>9904.000000</td>\n",
       "      <td>9904.000000</td>\n",
       "      <td>9904.000000</td>\n",
       "      <td>9904.000000</td>\n",
       "      <td>9904.000000</td>\n",
       "    </tr>\n",
       "    <tr>\n",
       "      <th>mean</th>\n",
       "      <td>8.817649</td>\n",
       "      <td>9.174374</td>\n",
       "      <td>7.872779</td>\n",
       "      <td>1.326939</td>\n",
       "      <td>8.211632</td>\n",
       "      <td>1.497375</td>\n",
       "      <td>12.112076</td>\n",
       "      <td>13.257169</td>\n",
       "      <td>0.303615</td>\n",
       "    </tr>\n",
       "    <tr>\n",
       "      <th>std</th>\n",
       "      <td>10.058170</td>\n",
       "      <td>10.074126</td>\n",
       "      <td>3.653968</td>\n",
       "      <td>0.580522</td>\n",
       "      <td>4.343831</td>\n",
       "      <td>0.707566</td>\n",
       "      <td>13.794936</td>\n",
       "      <td>13.862935</td>\n",
       "      <td>0.459841</td>\n",
       "    </tr>\n",
       "    <tr>\n",
       "      <th>min</th>\n",
       "      <td>1.000000</td>\n",
       "      <td>1.000000</td>\n",
       "      <td>2.000000</td>\n",
       "      <td>1.000000</td>\n",
       "      <td>2.000000</td>\n",
       "      <td>1.000000</td>\n",
       "      <td>0.000000</td>\n",
       "      <td>0.000000</td>\n",
       "      <td>0.000000</td>\n",
       "    </tr>\n",
       "    <tr>\n",
       "      <th>25%</th>\n",
       "      <td>2.000000</td>\n",
       "      <td>2.000000</td>\n",
       "      <td>5.000000</td>\n",
       "      <td>1.000000</td>\n",
       "      <td>5.000000</td>\n",
       "      <td>1.000000</td>\n",
       "      <td>3.000000</td>\n",
       "      <td>3.000000</td>\n",
       "      <td>0.000000</td>\n",
       "    </tr>\n",
       "    <tr>\n",
       "      <th>50%</th>\n",
       "      <td>5.000000</td>\n",
       "      <td>6.000000</td>\n",
       "      <td>7.000000</td>\n",
       "      <td>1.000000</td>\n",
       "      <td>6.000000</td>\n",
       "      <td>1.000000</td>\n",
       "      <td>8.000000</td>\n",
       "      <td>8.000000</td>\n",
       "      <td>0.000000</td>\n",
       "    </tr>\n",
       "    <tr>\n",
       "      <th>75%</th>\n",
       "      <td>12.000000</td>\n",
       "      <td>12.000000</td>\n",
       "      <td>10.000000</td>\n",
       "      <td>2.000000</td>\n",
       "      <td>11.000000</td>\n",
       "      <td>2.000000</td>\n",
       "      <td>17.000000</td>\n",
       "      <td>18.000000</td>\n",
       "      <td>1.000000</td>\n",
       "    </tr>\n",
       "    <tr>\n",
       "      <th>max</th>\n",
       "      <td>81.000000</td>\n",
       "      <td>81.000000</td>\n",
       "      <td>34.000000</td>\n",
       "      <td>6.000000</td>\n",
       "      <td>33.000000</td>\n",
       "      <td>6.000000</td>\n",
       "      <td>81.000000</td>\n",
       "      <td>82.000000</td>\n",
       "      <td>1.000000</td>\n",
       "    </tr>\n",
       "  </tbody>\n",
       "</table>\n",
       "</div>"
      ],
      "text/plain": [
       "       dist_endpoint   dist_start  len_aspect_char  len_aspect_word  \\\n",
       "count    9904.000000  9904.000000      9904.000000      9904.000000   \n",
       "mean        8.817649     9.174374         7.872779         1.326939   \n",
       "std        10.058170    10.074126         3.653968         0.580522   \n",
       "min         1.000000     1.000000         2.000000         1.000000   \n",
       "25%         2.000000     2.000000         5.000000         1.000000   \n",
       "50%         5.000000     6.000000         7.000000         1.000000   \n",
       "75%        12.000000    12.000000        10.000000         2.000000   \n",
       "max        81.000000    81.000000        34.000000         6.000000   \n",
       "\n",
       "       len_sentiment_char  len_sentiment_word  position_aspect  \\\n",
       "count         9904.000000         9904.000000      9904.000000   \n",
       "mean             8.211632            1.497375        12.112076   \n",
       "std              4.343831            0.707566        13.794936   \n",
       "min              2.000000            1.000000         0.000000   \n",
       "25%              5.000000            1.000000         3.000000   \n",
       "50%              6.000000            1.000000         8.000000   \n",
       "75%             11.000000            2.000000        17.000000   \n",
       "max             33.000000            6.000000        81.000000   \n",
       "\n",
       "       position_sentiment       target  \n",
       "count         9904.000000  9904.000000  \n",
       "mean            13.257169     0.303615  \n",
       "std             13.862935     0.459841  \n",
       "min              0.000000     0.000000  \n",
       "25%              3.000000     0.000000  \n",
       "50%              8.000000     0.000000  \n",
       "75%             18.000000     1.000000  \n",
       "max             82.000000     1.000000  "
      ]
     },
     "execution_count": 4,
     "metadata": {},
     "output_type": "execute_result"
    }
   ],
   "source": [
    "data_train.describe()"
   ]
  },
  {
   "cell_type": "code",
   "execution_count": 5,
   "metadata": {},
   "outputs": [],
   "source": [
    "X_train = data_train.drop('target', axis=1)\n",
    "X_test = data_test.drop('target', axis=1)\n",
    "y_train = data_train['target']\n",
    "y_test = data_test['target']"
   ]
  },
  {
   "cell_type": "markdown",
   "metadata": {},
   "source": [
    "## Training"
   ]
  },
  {
   "cell_type": "code",
   "execution_count": 6,
   "metadata": {},
   "outputs": [],
   "source": [
    "model = Classifier()"
   ]
  },
  {
   "cell_type": "code",
   "execution_count": 7,
   "metadata": {},
   "outputs": [
    {
     "data": {
      "text/plain": [
       "LGBMClassifier(boosting_type='gbdt', class_weight=None, colsample_bytree=1.0,\n",
       "        importance_type='split', learning_rate=0.1, max_depth=-1,\n",
       "        min_child_samples=20, min_child_weight=0.001, min_split_gain=0.0,\n",
       "        n_estimators=100, n_jobs=-1, num_leaves=31, objective=None,\n",
       "        random_state=None, reg_alpha=0.0, reg_lambda=0.0, silent=True,\n",
       "        subsample=1.0, subsample_for_bin=200000, subsample_freq=0)"
      ]
     },
     "execution_count": 7,
     "metadata": {},
     "output_type": "execute_result"
    }
   ],
   "source": [
    "model.fit(X_train, y_train)\n",
    "model.model"
   ]
  },
  {
   "cell_type": "code",
   "execution_count": 8,
   "metadata": {},
   "outputs": [],
   "source": [
    "pred = model.predict(X_test)"
   ]
  },
  {
   "cell_type": "code",
   "execution_count": 9,
   "metadata": {},
   "outputs": [
    {
     "name": "stdout",
     "output_type": "stream",
     "text": [
      "f1_0 : 0.9412052515697626\n",
      "f1_1 : 0.8713648528099912\n",
      "f1_a : 0.9062850521898769\n"
     ]
    }
   ],
   "source": [
    "print(\"f1_0 : {}\".format(f1_score(y_test, pred, pos_label=0)))\n",
    "print(\"f1_1 : {}\".format(f1_score(y_test, pred, pos_label=1)))\n",
    "print(\"f1_a : {}\".format(f1_score(y_test, pred, average='macro')))"
   ]
  },
  {
   "cell_type": "code",
   "execution_count": 10,
   "metadata": {},
   "outputs": [
    {
     "data": {
      "text/html": [
       "<div>\n",
       "<style scoped>\n",
       "    .dataframe tbody tr th:only-of-type {\n",
       "        vertical-align: middle;\n",
       "    }\n",
       "\n",
       "    .dataframe tbody tr th {\n",
       "        vertical-align: top;\n",
       "    }\n",
       "\n",
       "    .dataframe thead th {\n",
       "        text-align: right;\n",
       "    }\n",
       "</style>\n",
       "<table border=\"1\" class=\"dataframe\">\n",
       "  <thead>\n",
       "    <tr style=\"text-align: right;\">\n",
       "      <th></th>\n",
       "      <th>predicted_0</th>\n",
       "      <th>predicted_1</th>\n",
       "    </tr>\n",
       "  </thead>\n",
       "  <tbody>\n",
       "    <tr>\n",
       "      <th>true_0</th>\n",
       "      <td>5771</td>\n",
       "      <td>251</td>\n",
       "    </tr>\n",
       "    <tr>\n",
       "      <th>true_1</th>\n",
       "      <td>470</td>\n",
       "      <td>2442</td>\n",
       "    </tr>\n",
       "  </tbody>\n",
       "</table>\n",
       "</div>"
      ],
      "text/plain": [
       "        predicted_0  predicted_1\n",
       "true_0         5771          251\n",
       "true_1          470         2442"
      ]
     },
     "execution_count": 10,
     "metadata": {},
     "output_type": "execute_result"
    }
   ],
   "source": [
    "Classifier.generate_confusion_matrix_table(y_test, pred)"
   ]
  },
  {
   "cell_type": "code",
   "execution_count": null,
   "metadata": {},
   "outputs": [],
   "source": []
  }
 ],
 "metadata": {
  "kernelspec": {
   "display_name": "Python 3",
   "language": "python",
   "name": "python3"
  },
  "language_info": {
   "codemirror_mode": {
    "name": "ipython",
    "version": 3
   },
   "file_extension": ".py",
   "mimetype": "text/x-python",
   "name": "python",
   "nbconvert_exporter": "python",
   "pygments_lexer": "ipython3",
   "version": "3.6.8"
  }
 },
 "nbformat": 4,
 "nbformat_minor": 2
}
